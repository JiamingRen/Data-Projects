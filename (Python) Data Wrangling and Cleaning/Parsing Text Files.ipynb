{
 "cells": [
  {
   "cell_type": "markdown",
   "metadata": {},
   "source": [
    "FIT5196 Assessment 1 task1\n",
    "\n",
    "Student Name: Jiaming Ren\n",
    "\n",
    "Student ID: 217218863\n",
    "\n",
    "Date: 9/2/2021\n",
    "\n",
    "Version: 2.0\n",
    "\n",
    "Environment: Python 3.8.5 and Anaconda 4.10.3 (64-bit)\n",
    "\n",
    "Libraries used:\n",
    "\n",
    "- re (for regular expression, included in Anaconda Python 3.8)\n",
    "\n",
    "- os (for file operation, included in Anaconda Python 3.8)\n",
    "\n",
    "# Task 1 Instruction:\n",
    "This assessment touches the very first step of analyzing textual data, i.e., extracting data\n",
    "from semi-structured text files. \n",
    "Each\n",
    "text file contains information about the tweets, i.e., “user name”, “user code”, “user\n",
    "description”, “number of followers”, “whether or not the user account is verified”, “date\n",
    "of the tweet”, and the “tweet text”. Your task is to extract the data from the text file and\n",
    "transform the data into a XML format\n",
    "\n",
    "1. Import Libraries\n",
    "\n",
    "2. Load Data and Examining \n",
    "\n",
    "3. Extract data from text file \n",
    "\n",
    "    3.1. Find user name (tags: user_name,username,uname)\n",
    "    \n",
    "    3.2 Find usercode\n",
    "    \n",
    "    3.3 Find verfied_user (tags: verified?,verified_user?)\n",
    "    \n",
    "    3.4 Find no_follwers (tags: followerNo、No. followers)\n",
    "    \n",
    "    3.5 Find user_description (tags: udesc、userdescription、user_desc)\n",
    "    \n",
    "    3.6 Find tweet (tags: tweet、tweet_text)\n",
    "    \n",
    "    3.7 Find tweet_date\n",
    "    \n",
    "    3.8 examine\n",
    "    \n",
    "4. Transform the data into XML document\n",
    "\n",
    "    4.1 Move all extracted data into a python dict\n",
    "    \n",
    "    4.2 write and output the xml file\n",
    "5. Summary\n"
   ]
  },
  {
   "cell_type": "markdown",
   "metadata": {},
   "source": [
    "# 1. Import Libraries\n",
    "\n",
    "For this task, only the os and re are allowed to import"
   ]
  },
  {
   "cell_type": "code",
   "execution_count": 1,
   "metadata": {},
   "outputs": [],
   "source": [
    "#import libraries\n",
    "import os\n",
    "import re"
   ]
  },
  {
   "cell_type": "markdown",
   "metadata": {},
   "source": [
    "# 2. Load Data and Examining \n",
    "\n",
    "As the first step, the input text file will be loaded.\n",
    "\n",
    "steps:\n",
    "1. read the file\n",
    "2. first encode all emoji in the text, then decode into bytes for a better manipulation of the data\n",
    "3. strip all empty lines\n",
    "4. examine the total length and print all lines to observe patterns"
   ]
  },
  {
   "cell_type": "code",
   "execution_count": 2,
   "metadata": {
    "scrolled": true
   },
   "outputs": [
    {
     "name": "stdout",
     "output_type": "stream",
     "text": [
      "total length:  5166098\n"
     ]
    }
   ],
   "source": [
    "#load files\n",
    "file = open('21290849_task1_input.txt','r',encoding='utf-8')\n",
    "#read file\n",
    "content = file.read()\n",
    "#for regex convenience \n",
    "content = content+'$aresrsdfsadfwe.:'\n",
    "#convert emoji into bytes and strip all empty line\n",
    "content = content.encode('ascii', 'xmlcharrefreplace').decode('utf-8')\n",
    "#inspect the contents in file\n",
    "print('total length: ', len(content))\n",
    "\n",
    "#dict for convert symbol\n",
    "symbol = {'&': '&amp;', '\"': '&quot;', '<':'&lt;', '>':'&gt;'}\n",
    "#define regex\n",
    "re_xml = r'[&<>\"]'\n",
    "\n",
    "xml_symbol = re.findall(re_xml,content)\n",
    "if  len(xml_symbol) !=0 :\n",
    "    \n",
    "    xml_symbol = list(set(xml_symbol))\n",
    "    #change symbol\n",
    "    for i in range(len(xml_symbol)):\n",
    "        content = content.replace(xml_symbol[i],symbol[xml_symbol[i]])"
   ]
  },
  {
   "cell_type": "markdown",
   "metadata": {},
   "source": [
    "from the output, we can observe that all lines start with a $ and each tag end with '.:'. Also, some field can have different tags."
   ]
  },
  {
   "cell_type": "markdown",
   "metadata": {},
   "source": [
    "# 3. Extract data from text file\n",
    "The task is to extract the data from the text file and transform the data into a XML format with the following elements:\n",
    "\n",
    "The extract fields: \n",
    "1. user_name (tags: user_name,username,uname)\n",
    "2. user_code \n",
    "3. verified_user (tags: verified?,verified_user?)\n",
    "4. followerNo. (tags: followerNo、No. followers)\n",
    "5. user_description (tags: udesc、userdescription、user_desc)\n",
    "6. tweet (tags: tweet、tweet_text)\n",
    "7. tweet_date\n",
    "\n",
    "Steps to find each field: \n",
    "1. modify regex for each field\n",
    "2. filter from file\n",
    "3. examine output"
   ]
  },
  {
   "cell_type": "markdown",
   "metadata": {},
   "source": [
    "#### 3.1 Find user name (tags: user_name,username,uname)\n",
    "examples: \n",
    "\n",
    "- $uname.: Sameer Jha, \n",
    "\n",
    "- $username.: Lavidaeshermosa 🌈☀️👨‍👩‍👧‍👦🙏, \n",
    "\n",
    "- $user_name.: cynthy"
   ]
  },
  {
   "cell_type": "code",
   "execution_count": 3,
   "metadata": {},
   "outputs": [],
   "source": [
    "#find all user name\n",
    "\n",
    "#regex explanation\n",
    "#always begin with (\\$)\n",
    "#thourgh inspection, there are three types of user_name tag (\\$user_name\\.: |\\$username\\.: |\\$uname\\.: )\n",
    "#find all values (.*?)\n",
    "#match next tag to make sure get all value of integrity of current finding tag ([\\s\\n]?\\$[\\w?\\.]+\\.:)\n",
    "\n",
    "#modify regex\n",
    "username = r'(\\$user_name\\.: |\\$username\\.: |\\$uname\\.: )(.*?)([\\s\\n]?\\$[\\w?\\.]+\\.:)'\n",
    "\n",
    "#find all username lines\n",
    "l_username = re.findall(username,content,re.DOTALL)"
   ]
  },
  {
   "cell_type": "markdown",
   "metadata": {},
   "source": [
    "#### 3.2 Find usercode\n",
    "example:\n",
    "\n",
    "- $user_code.: 100005578"
   ]
  },
  {
   "cell_type": "code",
   "execution_count": 4,
   "metadata": {},
   "outputs": [],
   "source": [
    "#find all usercode\n",
    "\n",
    "#regex explanation\n",
    "#the usercode always start with (\\$user_code.: )\n",
    "#find all values (.*?)\n",
    "#match next tag to make sure get all value of integrity of current finding tag ([\\s\\n]?\\$[\\w?\\.]+\\.:)\n",
    "\n",
    "#modify regex\n",
    "usercode = r'(\\$user_code\\.: )(.*?)([\\s\\n]?\\$[\\w?\\.]+\\.:)'\n",
    "\n",
    "#find all usercode lines\n",
    "l_usercode = re.findall(usercode,content,re.DOTALL)"
   ]
  },
  {
   "cell_type": "markdown",
   "metadata": {},
   "source": [
    "#### 3.3 Find verfied_user (tags: verified?,verified_user?)\n",
    "\n",
    "examples:\n",
    "\n",
    "- $verified_user?.: False\n",
    "\n",
    "- $verified?.: False"
   ]
  },
  {
   "cell_type": "code",
   "execution_count": 5,
   "metadata": {},
   "outputs": [],
   "source": [
    "#find all verfied_user\n",
    "\n",
    "#regex explanation\n",
    "#the verified_user has two tags (\\$verified_user\\?\\.: |\\$verified\\?\\.:)\n",
    "#find all values (.*?)\n",
    "#match next tag to make sure get all value of integrity of current finding tag ([\\s\\n]?\\$[\\w?\\.]+\\.:)\n",
    "\n",
    "#modify regex\n",
    "verfied_user = r'(\\$verified_user\\?\\.: |\\$verified\\?\\.:)(.*?)([\\s\\n]?\\$[\\w?\\.]+\\.:)'\n",
    "\n",
    "#find all usercode lines\n",
    "l_verfied_user = re.findall(verfied_user,content,re.DOTALL)"
   ]
  },
  {
   "cell_type": "markdown",
   "metadata": {},
   "source": [
    "#### 3.4 Find no_follwers (tags: followerNo、No. followers)\n",
    "examples:\n",
    "\n",
    "- $No. followers.: 225.0\n",
    "\n",
    "- $followerNo.: 221.0"
   ]
  },
  {
   "cell_type": "code",
   "execution_count": 6,
   "metadata": {},
   "outputs": [],
   "source": [
    "#find all no_follwers\n",
    "\n",
    "#regex explanation\n",
    "#the no_follwers has two tags (\\$followerNo\\.: |\\$No\\.\\s?followers\\.: )\n",
    "#find all values (.*?)\n",
    "#match next tag to make sure get all value of integrity of current finding tag ([\\s\\n]?\\$[\\w?\\.]+\\.:)\n",
    "\n",
    "#modify regex\n",
    "no_follwers = r'(\\$followerNo\\.: |\\$No\\.\\s?followers\\.: )(.*?)([\\s\\n]?\\$[\\w?\\.]+\\.:)'\n",
    "\n",
    "#find all usercode lines\n",
    "l_no_follwers = re.findall(no_follwers,content,re.DOTALL)"
   ]
  },
  {
   "cell_type": "markdown",
   "metadata": {},
   "source": [
    "#### 3.5 Find user_description (tags: udesc、userdescription、user_desc)\n",
    "examples:\n",
    "\n",
    "- $userdescription.: TattooKrazy Street Entrepreneur On The Road To Riches With My Bae https://t.co/DvPiY95b85 OF #MeetTheSharkxxx Booking karolinadg106@gmail.com 🔞\n",
    "\n",
    "- $udesc.: Computer Engineering\n",
    "\n",
    "- $user_desc.: #bitcoin since 2015\n"
   ]
  },
  {
   "cell_type": "code",
   "execution_count": 7,
   "metadata": {},
   "outputs": [],
   "source": [
    "#find all user_description\n",
    "\n",
    "#regex explanation\n",
    "#the user_description has two tag (\\$udesc\\.: |\\$userdescription\\.: |\\$user_desc\\.: )\n",
    "#find all values (.*?)\n",
    "#match next tag to make sure get all value of integrity of current finding tag ([\\s\\n]?\\$[\\w?\\.]+\\.:)\n",
    "\n",
    "#modify regex\n",
    "user_description = r'(\\$udesc\\.: |\\$userdescription\\.: |\\$user_desc\\.: )(.*?)([\\s\\n]?\\$[\\w?\\.]+\\.:)'\n",
    "\n",
    "#find all usercode lines\n",
    "l_user_description = re.findall(user_description,content,re.DOTALL)"
   ]
  },
  {
   "cell_type": "markdown",
   "metadata": {},
   "source": [
    "#### 3.6 Find tweet (tags: tweet、tweet_text)\n",
    "examples:\n",
    "\n",
    "- $tweet.: @CryptoCharles__ I got in at 55k and was told to let go around 63k range. Will I repeat the same after the finish of this half of the bull run.. possibly 🥲 #Bitcoin \n",
    "\n",
    "- $tweet_text.: #Bitcoin has two thresholds(TH): The higher TH is 69849$ and the lower TH is 53814$(buy). The important TH dates ar… https://t.co/7ePGhai2Xg"
   ]
  },
  {
   "cell_type": "code",
   "execution_count": 8,
   "metadata": {},
   "outputs": [],
   "source": [
    "#find all tweet\n",
    "\n",
    "#regex explanation\n",
    "#the tweet has two tags (\\$tweet\\.: |\\$tweet_text\\.: )\n",
    "#find all values (.*?)\n",
    "#match next tag to make sure get all value of integrity of current finding tag ([\\s\\n]?\\$[\\w?\\.]+\\.:)\n",
    "\n",
    "#modify regex\n",
    "tweet = r'(\\$tweet\\.: |\\$tweet_text\\.: )(.*?)(\\$[\\w?\\.]+\\.:)'\n",
    "\n",
    "#find all usercode lines\n",
    "l_tweet = re.findall(tweet,content,re.DOTALL)"
   ]
  },
  {
   "cell_type": "markdown",
   "metadata": {},
   "source": [
    "#### 3.7 Find tweet_date\n",
    "example:\n",
    "\n",
    "- $tweet_date.: 2021-07-04 10:45:23\n"
   ]
  },
  {
   "cell_type": "code",
   "execution_count": 9,
   "metadata": {},
   "outputs": [],
   "source": [
    "#find all tweet_date\n",
    "\n",
    "#regex explanation\n",
    "#there is only one tag for tweet date (\\$tweet_date\\.: )\n",
    "#find all values (.*?)\n",
    "#match next tag to make sure get all value of integrity of current finding tag ([\\s\\n]?\\$[\\w?\\.]+\\.:)\n",
    "\n",
    "\n",
    "#modify regex\n",
    "tweet_date = r'(\\$tweet_date\\.: )(.*)'\n",
    "#find all usercode lines\n",
    "l_tweet_date = re.findall(tweet_date,content)"
   ]
  },
  {
   "cell_type": "markdown",
   "metadata": {},
   "source": [
    "#### 3.8 examine\n",
    "check whether the lengths for each field are consistent"
   ]
  },
  {
   "cell_type": "code",
   "execution_count": 10,
   "metadata": {
    "scrolled": true
   },
   "outputs": [
    {
     "name": "stdout",
     "output_type": "stream",
     "text": [
      "1. l_username length:  12339 [('$username.: ', 'kozy', '\\n$user_code.:'), ('$username.: ', '&amp;#129472;CPT.HOEKCRYPTO&amp;#129472;', '\\n$user_code.:'), ('$user_name.: ', 'Amony', '\\n$user_code.:'), ('$uname.: ', 'BitcoinAverage - Cryptocurrency Exchange Rates', '\\n$user_code.:'), ('$user_name.: ', 'Nhnhblack', '\\n$user_code.:')] \n",
      "\n",
      "2. l_usercode length:  12339 ('$user_code.: ', '100042243', '\\n$user_desc.:') \n",
      "\n",
      "3. l_verfied_user length:  12339 ('$verified?.:', ' False', ' $tweet_date.:') \n",
      "\n",
      "4. l_no_follwers length:  12339 ('$No. followers.: ', '22201.0', ' $verified?.:') \n",
      "\n",
      "5. l_user_description length:  12339 ('$user_desc.: ', 'A Variety Streamer Always On &amp;#9729;&amp;#65039; 9\\n$No. followers.: 22201.0', ' $verified?.:') \n",
      "\n",
      "6. l_tweet length:  12339 ('$tweet_text.: ', \"#bitcoin goes up slowly for three days and went back down to the same level in 12 hours. And there isn't even a reaction from the bulls.\\n\\nNot something we want to see in the short-term imo.\\n\", '$username.:') \n",
      "\n",
      "7. l_tweet_date length:  12339 ('$tweet_date.: ', '2021-07-05 16:46:51') \n",
      "\n"
     ]
    }
   ],
   "source": [
    "#print out l_username length and first 5 username\n",
    "print('1. l_username length: ',len(l_username),l_username[:5],'\\n')\n",
    "\n",
    "#print out l_usercode length and first 5 username\n",
    "print('2. l_usercode length: ',len(l_usercode),l_usercode[0],'\\n')\n",
    "\n",
    "#print out l_verfied_user length and first 10 username\n",
    "print('3. l_verfied_user length: ',len(l_verfied_user),l_verfied_user[0],'\\n')\n",
    "\n",
    "#print out l_no_follwers length and first 5 username\n",
    "print('4. l_no_follwers length: ',len(l_no_follwers),l_no_follwers[0],'\\n')\n",
    "\n",
    "#print out l_user_description length and first 5 username\n",
    "print('5. l_user_description length: ',len(l_user_description),l_user_description[0],'\\n')\n",
    "\n",
    "#print out l_tweet length and first 5 username\n",
    "print('6. l_tweet length: ',len(l_tweet),l_tweet[0],'\\n')\n",
    "\n",
    "#print out l_tweet_date length and first 5 username\n",
    "print('7. l_tweet_date length: ',len(l_tweet_date),l_tweet_date[0],'\\n')"
   ]
  },
  {
   "cell_type": "markdown",
   "metadata": {},
   "source": [
    "# 4. Transform the data into XML document\n",
    "\n",
    "#### 4.1 Move all extracted data into a python dict\n",
    "Now, I will encapsulate data extracted from file into a python dictionary to prepare for the next step which is out an XML file\n",
    "\n",
    "steps: \n",
    "\n",
    "1. create an empty dict\n",
    "\n",
    "2. we save all data into a list of tuples in a format [(tag, value)]. loop each list and assign the value to correct key in dict\n",
    "\n",
    "3. a user can have multiple post, but the usercode is same. check if the user code exist. if the usercode exist, check posted date and change all to latest date data.\n",
    "\n",
    "4. check the length of all keys"
   ]
  },
  {
   "cell_type": "code",
   "execution_count": 11,
   "metadata": {},
   "outputs": [
    {
     "name": "stdout",
     "output_type": "stream",
     "text": [
      "length of all keys:  7506\n"
     ]
    }
   ],
   "source": [
    "#{\n",
    "#    user_code : {\n",
    "#        user_name : .......\n",
    "#        verified_user: .......\n",
    "#        user_description: .......\n",
    "#        no_followers: .......\n",
    "#        tweets:[tweet]\n",
    "#    }\n",
    "#}\n",
    "\n",
    "#the dict that store extracted data\n",
    "data = {}\n",
    "\n",
    "#loop each list and assign the value to correct key in dict\n",
    "for i in range(len(l_tweet_date)):\n",
    "    user_code = l_usercode[i][1]\n",
    "    user_name = l_username[i][1]\n",
    "    verified_user = l_verfied_user[i][1]\n",
    "    user_description = l_user_description[i][1]\n",
    "    no_followers = l_no_follwers[i][1]\n",
    "    tweets = l_tweet[i][1]\n",
    "    tweet_date = l_tweet_date[i][1]\n",
    "    \n",
    "    #check if the user code exist\n",
    "    if user_code in data:\n",
    "        temp_data = data[user_code]\n",
    "        \n",
    "        #record all tweets for each user\n",
    "        temp_data['tweets'].append(tweets)\n",
    "        \n",
    "        #check posted date. if it is latest, change all to latest date data.\n",
    "        if tweet_date > temp_data['tweet_date']:\n",
    "            temp_data['user_name'] = user_name\n",
    "            temp_data['verified_user'] = verified_user\n",
    "            temp_data['user_description'] = user_description\n",
    "            temp_data['no_followers'] = no_followers\n",
    "            temp_data['tweet_date'] = tweet_date\n",
    "            \n",
    "    #if the usercode first time appear\n",
    "    else:\n",
    "        temp_data={}\n",
    "        temp_data['user_name'] = user_name\n",
    "        temp_data['verified_user'] = verified_user\n",
    "        temp_data['user_description'] = user_description\n",
    "        temp_data['no_followers'] = no_followers\n",
    "        temp_data['tweet_date'] = tweet_date\n",
    "        temp_data['tweets'] = [tweets]\n",
    "        data[user_code]=temp_data\n",
    "#check the length of all keys\n",
    "print(\"length of all keys: \",len(data.keys()))   "
   ]
  },
  {
   "attachments": {
    "image.png": {
     "image/png": "[encoded data removed]"
    }
   },
   "cell_type": "markdown",
   "metadata": {},
   "source": [
    "#### 4.2 write and output the xml file\n",
    "steps: \n",
    "1. open a xml file\n",
    "\n",
    "2. write down each line\n",
    "\n",
    "example: \n",
    "![image.png](attachment:image.png)"
   ]
  },
  {
   "cell_type": "code",
   "execution_count": 12,
   "metadata": {},
   "outputs": [],
   "source": [
    "#open a xml file to store manipulated data\n",
    "with open('217218863.xml','w',encoding='UTF-8') as output:\n",
    "    #first line\n",
    "    output.write('<?xml version=\"1.0\" encoding=\"utf-8\"?>')\n",
    "    \n",
    "    #user tag\n",
    "    output.write('<users>')\n",
    "    \n",
    "    # write down each line\n",
    "    for dict_data in data.values():\n",
    "        output.write(f'<user name=\"{str(dict_data[\"user_name\"])}\">')\n",
    "        output.write(f'<verified_user>{str(dict_data[\"verified_user\"])}</verified_user>')\n",
    "        output.write(f'<user_description>{str(dict_data[\"user_description\"])}</user_description>')\n",
    "        output.write(f'<no_followers>{str(dict_data[\"no_followers\"])}</no_followers>')\n",
    "        output.write('<tweets>')\n",
    "        \n",
    "        #write down each tweets\n",
    "        for tweet in dict_data['tweets']:\n",
    "            output.write(f'<tweet>{str(tweet)}</tweet>')\n",
    "        output.write('</tweets>')\n",
    "        output.write('</user>')\n",
    "    #user tag closed\n",
    "    output.write('</users>')\n",
    "    #close file\n",
    "    output.close()\n",
    "    "
   ]
  },
  {
   "cell_type": "markdown",
   "metadata": {},
   "source": [
    "# 5. Summary\n",
    "This assessment measured the understanding of basic text file processing techniques in the Python programming language. The main outcomes achieved while applying these techniques were:\n",
    "\n",
    "\n",
    "- TXT parsing and data extraction: by using the built-in function file.read() to read the file and use the library re to parsing data\n",
    "\n",
    "- Exporting data to a specific format: by using the built-in functions like file.write() to build an XML by simulating its format.\n"
   ]
  }
 ],
 "metadata": {
  "kernelspec": {
   "display_name": "Python 3",
   "language": "python",
   "name": "python3"
  },
  "language_info": {
   "codemirror_mode": {
    "name": "ipython",
    "version": 3
   },
   "file_extension": ".py",
   "mimetype": "text/x-python",
   "name": "python",
   "nbconvert_exporter": "python",
   "pygments_lexer": "ipython3",
   "version": "3.8.5"
  }
 },
 "nbformat": 4,
 "nbformat_minor": 4
}
