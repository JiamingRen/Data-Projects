{
 "cells": [
  {
   "cell_type": "code",
   "execution_count": 44,
   "metadata": {},
   "outputs": [],
   "source": [
    "import re\n",
    "import pandas as pd\n",
    "import numpy as np\n",
    "import matplotlib.pyplot as plt\n",
    "#create a class that has multiple function for the chess game\n",
    "class chess_games():\n",
    "    #get the pgn file\n",
    "    def __init__(self, file_name):\n",
    "        self.file_name = file_name\n",
    "    \n",
    "    #clear the pgn file and return a game_string.txt\n",
    "    def clear_chess_moves(self):\n",
    "        #open the file\n",
    "        chess_game = open(self.file_name)\n",
    "        #get the file texts\n",
    "        file_text = chess_game.read()\n",
    "        #list that store chess moves\n",
    "        chess_moves = []\n",
    "        #clear all [] and everything inside the []\n",
    "        clear_brackets=re.sub(\"\\[.*?\\]\",\"\",file_text)\n",
    "        remove_space = clear_brackets.replace('\\n', '')\n",
    "        #split lines by scores '1-0', '1/2-1/2', '0-1'\n",
    "        cleaned_chess_moves = re.split('  1-0|  1/2-1/2|  0-1|  \\*', remove_space)\n",
    "        #clear empty list\n",
    "        cleaned_chess_moves = list(filter(None, cleaned_chess_moves))\n",
    "        #write cleaned data into a new txt file\n",
    "        with open('game_string.txt','w') as chess:\n",
    "            #write each value from the list\n",
    "            for i in range(len(cleaned_chess_moves)):\n",
    "                #strip whitespace from right and left\n",
    "                chess.write(str(cleaned_chess_moves[i].strip()) + '\\n')\n",
    "        #print total games\n",
    "        print('total games: ' + str(len(cleaned_chess_moves)))\n",
    "        #close the file\n",
    "        chess.close()\n",
    "        \n",
    "    #split into two files\n",
    "    def split_white_black_moves(self):\n",
    "        #call the clear_chess_moves first incase there is no game_string document\n",
    "        self.clear_chess_moves()\n",
    "        #open the game_string txt file\n",
    "        with open('game_string.txt','r') as game:\n",
    "            #read the file\n",
    "            game_file = game.read()\n",
    "            #split files by lines, which make it become a list\n",
    "            game_list = game_file.splitlines()\n",
    "            #created a list for splited list\n",
    "            game_list_splited = []\n",
    "            #list that store each signle moves\n",
    "            game_list_splited_moves = []\n",
    "            #split by the '' \\d{1,100}\\W' format which is the index for each value in the list.\n",
    "            for i in range(len(game_list)):\n",
    "                game_list_splited.append(re.split(r' \\d+\\W', game_list[i]))\n",
    "            for i in range(len(game_list_splited)):\n",
    "                #in the splited list, remove the first index for each list that could not\n",
    "                #from the previous step\n",
    "                game_list_splited[i][0] = re.sub(r'1\\W','',game_list_splited[i][0])\n",
    "                #list that store all splited moves for one game. clear to empty everytime when one game's loop is finished\n",
    "                moves=[]\n",
    "                for j in range(len(game_list_splited[i])):\n",
    "                    #split each moves by the empty space between each player's moves\n",
    "                    moves.append(game_list_splited[i][j].split(' '))\n",
    "                #append each splited game moves in the game_list_splited_moves\n",
    "                game_list_splited_moves.append(moves)\n",
    "            game.close()\n",
    "        #print write chess moves for each player for each game\n",
    "        for i in range(len(game_list_splited_moves)):\n",
    "            #files for white move and black moves\n",
    "            white_moves = open(str(i+1)+'w.txt','w')\n",
    "            black_moves = open(str(i+1)+'b.txt','w')\n",
    "            #label each game\n",
    "            white_moves.write(str(i+1) + 'w\\n')\n",
    "            black_moves.write(str(i+1) + 'b\\n')\n",
    "            #loop moves for both white and black player\n",
    "            for j in range(len(game_list_splited_moves[i])):\n",
    "                #some game has no black player moves, if the len > 1 means both player has moves\n",
    "                if len(game_list_splited_moves[i][j]) > 1:\n",
    "                    #write each white player moves in the file\n",
    "                    white_moves.write(str(j+1)+': '+game_list_splited_moves[i][j][0] + ', ')\n",
    "                    black_moves.write(str(j+1)+': '+game_list_splited_moves[i][j][1] + ', ')\n",
    "                #if only white player moved\n",
    "                if len(game_list_splited_moves[i][j]) == 1:\n",
    "                    #write each white player moves in the file\n",
    "                    white_moves.write(str(j+1)+': '+game_list_splited_moves[i][j][0] + ', ')\n",
    "                    black_moves.write('')\n",
    "            white_moves.write('\\n')\n",
    "            black_moves.write('\\n')\n",
    "            #close files\n",
    "            white_moves.close()\n",
    "            black_moves.close()\n",
    "        print('white and black players moves for all games has been seprated into each files')\n",
    "    #counts repeated moves for each first move\n",
    "    def dataframe_counts(self):\n",
    "        #clear moves, make sure there will be a game_string file or remove the old game_string file\n",
    "        self.clear_chess_moves()\n",
    "        #open the game_string.txt\n",
    "        with open('game_string.txt','r') as file:\n",
    "            #read the file\n",
    "            game_list = file.read()\n",
    "            #create a data frame for saving white and black counts\n",
    "            count_white = pd.DataFrame(columns= ['White'])\n",
    "            count_black = pd.DataFrame(columns=['Black'])\n",
    "            #find all first moves\n",
    "            first_step = re.findall(r'1\\.(\\w{1,2}\\d{1})\\s(\\w{1,2}\\d)\\s2\\.',game_list)\n",
    "            #if the black do not have first moves, only append the white player moves.\n",
    "            first_step.append(re.findall(r'\\n1\\.(\\w{1,2}\\d)\\n',game_list))\n",
    "            #print the length of the game list\n",
    "            #counting moves\n",
    "            for i in range(len(first_step)):\n",
    "                #count white moves\n",
    "                #if the index exist +=1\n",
    "                if len(first_step[i]) > 1:\n",
    "                    if first_step[i][0] in count_white.index:\n",
    "                        count_white.loc[first_step[i][0],'White'] += 1\n",
    "                    else:\n",
    "                        #if the index do not exist, create a new row and set the value to 1\n",
    "                        count_white.loc[first_step[i][0]] = 1\n",
    "                    #count black moves\n",
    "                    #if the index exist +=1\n",
    "                    if first_step[i][1] in count_black.index:\n",
    "                        count_black.loc[first_step[i][1],'Black'] += 1\n",
    "                    else:\n",
    "                        #if the index do not exist, create a new row and set the value to 1\n",
    "                        count_black.loc[first_step[i][1]] = 1\n",
    "                if len(first_step[i]) == 1:\n",
    "                    if first_step[i][0] in count_white.index:\n",
    "                        count_white.loc[first_step[i][0],'White'] += 1\n",
    "                    else:\n",
    "                        #if the index do not exist, create a new row and set the value to 1\n",
    "                        count_white.loc[first_step[i][0]] = 1\n",
    "            #return the dataframes in a tuple\n",
    "            self.white_black = (count_white, count_black)\n",
    "            return self.white_black\n",
    "    #plot two bar chart for top ten repeated moves\n",
    "    def plotting(self):\n",
    "        self.dataframe_counts()\n",
    "        #convert the white and black dataframe to dict\n",
    "        w_dict = self.white_black[0].to_dict()\n",
    "        b_dict = self.white_black[1].to_dict()\n",
    "        #empty dict that store top ten moves for black and white\n",
    "        w_dict_top_ten = {}\n",
    "        b_dict_top_ten = {}\n",
    "        #combine white and black dict for the convenience of sorting\n",
    "        w_dict['White'].update(b_dict['Black'])\n",
    "        merged_dict = w_dict['White']\n",
    "        #sort the merged dict and listed as keys\n",
    "        sorted_merge_dict_keys = sorted(merged_dict,key=merged_dict.get)\n",
    "        #store sorted top ten moves\n",
    "        top_ten = {}\n",
    "        for keys in sorted_merge_dict_keys:\n",
    "            top_ten[keys] = merged_dict[keys]\n",
    "        #convert the top_ten to a list\n",
    "        top_ten_list = list(top_ten.items())\n",
    "        #get the length of the list\n",
    "        n = len(top_ten_list)\n",
    "        #get the top ten repeated moves\n",
    "        top_ten_list = top_ten_list[n-10:n]\n",
    "        #filter black and white moves from the list\n",
    "        for i in range(len(top_ten_list)):\n",
    "            #if the key in black or white dataframe, save it in the predefined dict\n",
    "            if top_ten_list[i][0] in self.white_black[0].index:\n",
    "                w_dict_top_ten[top_ten_list[i][0]] = top_ten_list[i][1]\n",
    "            if top_ten_list[i][0] in self.white_black[1].index:\n",
    "                b_dict_top_ten[top_ten_list[i][0]] = top_ten_list[i][1]\n",
    "        #convert the black and white dict to dataframe for plotting\n",
    "        w_df = pd.DataFrame({'Move':w_dict_top_ten.keys(),'Times':w_dict_top_ten.values()})\n",
    "        b_df = pd.DataFrame({'Move':b_dict_top_ten.keys(),'Times':b_dict_top_ten.values()})\n",
    "        #predefine the x and y for both white and black\n",
    "        w_x = w_df['Move']\n",
    "        w_y = w_df['Times']\n",
    "        b_x = b_df['Move']\n",
    "        b_y = b_df['Times']\n",
    "        #first bar chart\n",
    "        #plot bar chart for white and black moves\n",
    "        plt.bar(w_x, w_y,label='White Moves')\n",
    "        plt.bar(b_x, b_y,label='Black Moves')\n",
    "        plt.xlabel(\"Moves\")\n",
    "        plt.ylabel(\"Number of Moves Occured\")\n",
    "        plt.title(\"Top ten most repeated moves\")\n",
    "        plt.legend()\n",
    "        plt.show()\n",
    "        #second bar chart\n",
    "        #plot bar chart for white and black moves\n",
    "        fig, ax = plt.subplots()\n",
    "        fig.suptitle('Red - White Moves | Blue - Black Moves')\n",
    "        for i in range(len(top_ten_list)):\n",
    "            if top_ten_list[i][0] in self.white_black[0].index:\n",
    "                ax.bar(top_ten_list[i][0],top_ten_list[i][1],color='r')\n",
    "            if top_ten_list[i][0] in self.white_black[1].index:\n",
    "                ax.bar(top_ten_list[i][0],top_ten_list[i][1],color='b')\n",
    "            ax.text(top_ten_list[i][0],top_ten_list[i][1],s=top_ten_list[i][1])\n",
    "        ax.set_xlabel(\"Unique Moves\")\n",
    "        ax.set_ylabel(\"Number of Moves Occured\")\n",
    "        plt.show()"
   ]
  },
  {
   "cell_type": "code",
   "execution_count": 45,
   "metadata": {},
   "outputs": [
    {
     "name": "stdout",
     "output_type": "stream",
     "text": [
      "total games: 2110\n"
     ]
    },
    {
     "data": {
      "image/png": "[encoded data removed]",
      "text/plain": [
       "<Figure size 432x288 with 1 Axes>"
      ]
     },
     "metadata": {
      "needs_background": "light"
     },
     "output_type": "display_data"
    },
    {
     "data": {
      "image/png": "[encoded data removed]",
      "text/plain": [
       "<Figure size 432x288 with 1 Axes>"
      ]
     },
     "metadata": {
      "needs_background": "light"
     },
     "output_type": "display_data"
    }
   ],
   "source": [
    "#clall class\n",
    "c = chess_games('chess_game.pgn')\n",
    "c.plotting()"
   ]
  },
  {
   "cell_type": "markdown",
   "metadata": {},
   "source": [
    "Understanding of the plotted graphs:\n",
    "The two graphs show the top ten most repeated first moves for both black and white players. The white player has four moves sit in the top ten list (d4, e4, nf3, c4). There are six moves for the black player in the top ten list (nf6, c5, d5, e5, e6, g6). The top three moves are d4(white) with 907 moves, e4(white) with 828, nf6(black) with 787 moves. The white player particularly likes to use e4 or d4 moves as the first, 82% of the total."
   ]
  },
  {
   "cell_type": "code",
   "execution_count": 46,
   "metadata": {},
   "outputs": [
    {
     "name": "stdout",
     "output_type": "stream",
     "text": [
      "total games: 2110\n"
     ]
    }
   ],
   "source": [
    "c.clear_chess_moves()"
   ]
  },
  {
   "cell_type": "code",
   "execution_count": 47,
   "metadata": {},
   "outputs": [
    {
     "name": "stdout",
     "output_type": "stream",
     "text": [
      "total games: 2110\n",
      "white and black players moves for all games has been seprated into each files\n"
     ]
    }
   ],
   "source": [
    "c.split_white_black_moves()"
   ]
  },
  {
   "cell_type": "code",
   "execution_count": 48,
   "metadata": {},
   "outputs": [
    {
     "name": "stdout",
     "output_type": "stream",
     "text": [
      "total games: 2110\n"
     ]
    },
    {
     "data": {
      "text/plain": [
       "(    White\n",
       " e4    828\n",
       " c4    179\n",
       " Nf3   186\n",
       " d4    907\n",
       " g3      3\n",
       " e3      3\n",
       " d3      1\n",
       " Nc3     1\n",
       " b3      2,\n",
       "     Black\n",
       " c5    504\n",
       " e6    113\n",
       " e5    246\n",
       " d6     30\n",
       " c6     56\n",
       " Nf6   787\n",
       " d5    287\n",
       " g6     57\n",
       " f5     19\n",
       " Nc6     6\n",
       " b6      3\n",
       " b5      1)"
      ]
     },
     "execution_count": 48,
     "metadata": {},
     "output_type": "execute_result"
    }
   ],
   "source": [
    "c.dataframe_counts()"
   ]
  },
  {
   "cell_type": "code",
   "execution_count": null,
   "metadata": {},
   "outputs": [],
   "source": []
  }
 ],
 "metadata": {
  "kernelspec": {
   "display_name": "Python 3",
   "language": "python",
   "name": "python3"
  },
  "language_info": {
   "codemirror_mode": {
    "name": "ipython",
    "version": 3
   },
   "file_extension": ".py",
   "mimetype": "text/x-python",
   "name": "python",
   "nbconvert_exporter": "python",
   "pygments_lexer": "ipython3",
   "version": "3.8.5"
  }
 },
 "nbformat": 4,
 "nbformat_minor": 4
}
