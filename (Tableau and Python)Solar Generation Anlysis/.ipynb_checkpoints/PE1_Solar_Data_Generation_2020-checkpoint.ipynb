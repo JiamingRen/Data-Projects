{
 "cells": [
  {
   "cell_type": "markdown",
   "metadata": {},
   "source": [
    "# Programming Exercise 1: Tableau Public"
   ]
  },
  {
   "cell_type": "markdown",
   "metadata": {},
   "source": [
    "There are five problems in the dataset\n",
    "\n",
    "Two known issues:\n",
    "\n",
    "1. there are multiple time periods with missing (NULL) values. missing values are inherently different from zero (0), as its value is simply unknown rather than specifically zero\n",
    "2. a solar meter had reported small amounts of energy being generated at night, which is clearly incorrect. \n",
    "\n",
    "Use Tableau to visualise data to find erros:\n",
    "\n",
    "3. negative data\n",
    "4. naming error \n",
    "5. duplicate date"
   ]
  },
  {
   "cell_type": "code",
   "execution_count": 129,
   "metadata": {},
   "outputs": [],
   "source": [
    "import pandas as pd\n",
    "import re"
   ]
  },
  {
   "cell_type": "code",
   "execution_count": 130,
   "metadata": {},
   "outputs": [
    {
     "data": {
      "text/html": [
       "<div>\n",
       "<style scoped>\n",
       "    .dataframe tbody tr th:only-of-type {\n",
       "        vertical-align: middle;\n",
       "    }\n",
       "\n",
       "    .dataframe tbody tr th {\n",
       "        vertical-align: top;\n",
       "    }\n",
       "\n",
       "    .dataframe thead th {\n",
       "        text-align: right;\n",
       "    }\n",
       "</style>\n",
       "<table border=\"1\" class=\"dataframe\">\n",
       "  <thead>\n",
       "    <tr style=\"text-align: right;\">\n",
       "      <th></th>\n",
       "      <th>Timestamp</th>\n",
       "      <th>MonSolarMeter</th>\n",
       "      <th>Real Energy Into the Load (kWh)</th>\n",
       "    </tr>\n",
       "  </thead>\n",
       "  <tbody>\n",
       "    <tr>\n",
       "      <th>0</th>\n",
       "      <td>2020-01-01 00:00:00.004</td>\n",
       "      <td>LV_Engineering_72.Solar_Main_Supply</td>\n",
       "      <td>0.0</td>\n",
       "    </tr>\n",
       "    <tr>\n",
       "      <th>1</th>\n",
       "      <td>2020-01-01 00:00:00.004</td>\n",
       "      <td>LV_N1_Building_Carpark.West_Park_Solar_Feed</td>\n",
       "      <td>0.0</td>\n",
       "    </tr>\n",
       "    <tr>\n",
       "      <th>2</th>\n",
       "      <td>2020-01-01 00:00:00.004</td>\n",
       "      <td>LV_Biomedical_Sciences_76.Solar_Main_Supply</td>\n",
       "      <td>0.0</td>\n",
       "    </tr>\n",
       "    <tr>\n",
       "      <th>3</th>\n",
       "      <td>2020-01-01 00:00:00.004</td>\n",
       "      <td>LV_Sport_01.PVDB-DB-B</td>\n",
       "      <td>0.0</td>\n",
       "    </tr>\n",
       "    <tr>\n",
       "      <th>4</th>\n",
       "      <td>2020-01-01 00:30:00.004</td>\n",
       "      <td>LV_N1_Building_Carpark.West_Park_Solar_Feed</td>\n",
       "      <td>0.0</td>\n",
       "    </tr>\n",
       "  </tbody>\n",
       "</table>\n",
       "</div>"
      ],
      "text/plain": [
       "                 Timestamp                                MonSolarMeter  \\\n",
       "0  2020-01-01 00:00:00.004          LV_Engineering_72.Solar_Main_Supply   \n",
       "1  2020-01-01 00:00:00.004  LV_N1_Building_Carpark.West_Park_Solar_Feed   \n",
       "2  2020-01-01 00:00:00.004  LV_Biomedical_Sciences_76.Solar_Main_Supply   \n",
       "3  2020-01-01 00:00:00.004                        LV_Sport_01.PVDB-DB-B   \n",
       "4  2020-01-01 00:30:00.004  LV_N1_Building_Carpark.West_Park_Solar_Feed   \n",
       "\n",
       "   Real Energy Into the Load (kWh)  \n",
       "0                              0.0  \n",
       "1                              0.0  \n",
       "2                              0.0  \n",
       "3                              0.0  \n",
       "4                              0.0  "
      ]
     },
     "metadata": {},
     "output_type": "display_data"
    },
    {
     "name": "stdout",
     "output_type": "stream",
     "text": [
      "['LV_Engineering_72.Solar_Main_Supply'\n",
      " 'LV_N1_Building_Carpark.West_Park_Solar_Feed'\n",
      " 'LV_Biomedical_Sciences_76.Solar_Main_Supply' 'LV_Sport_01.PVDB-DB-B'\n",
      " 'LV_Biomedical_Science_76.Solar_Main_Supply']\n"
     ]
    }
   ],
   "source": [
    "#import data\n",
    "data = pd.read_csv('PE1_Solar_Data_Generation_2020.csv')\n",
    "display(data.head())\n",
    "print(data[\"MonSolarMeter\"].unique())"
   ]
  },
  {
   "cell_type": "markdown",
   "metadata": {},
   "source": [
    "Make all the energy that generate at night equal to zero: \n"
   ]
  },
  {
   "cell_type": "markdown",
   "metadata": {},
   "source": [
    "Filter negative data: \n",
    "1. find all rows with negative value\n",
    "2. drop all rows with negative value"
   ]
  },
  {
   "cell_type": "code",
   "execution_count": 131,
   "metadata": {},
   "outputs": [
    {
     "name": "stdout",
     "output_type": "stream",
     "text": [
      "the index for negative value: \n"
     ]
    },
    {
     "data": {
      "text/plain": [
       "Int64Index([8930], dtype='int64')"
      ]
     },
     "metadata": {},
     "output_type": "display_data"
    },
    {
     "name": "stdout",
     "output_type": "stream",
     "text": [
      "confirm the data is change to positive: \n"
     ]
    },
    {
     "data": {
      "text/html": [
       "<div>\n",
       "<style scoped>\n",
       "    .dataframe tbody tr th:only-of-type {\n",
       "        vertical-align: middle;\n",
       "    }\n",
       "\n",
       "    .dataframe tbody tr th {\n",
       "        vertical-align: top;\n",
       "    }\n",
       "\n",
       "    .dataframe thead th {\n",
       "        text-align: right;\n",
       "    }\n",
       "</style>\n",
       "<table border=\"1\" class=\"dataframe\">\n",
       "  <thead>\n",
       "    <tr style=\"text-align: right;\">\n",
       "      <th></th>\n",
       "      <th>Timestamp</th>\n",
       "      <th>MonSolarMeter</th>\n",
       "      <th>Real Energy Into the Load (kWh)</th>\n",
       "    </tr>\n",
       "  </thead>\n",
       "  <tbody>\n",
       "  </tbody>\n",
       "</table>\n",
       "</div>"
      ],
      "text/plain": [
       "Empty DataFrame\n",
       "Columns: [Timestamp, MonSolarMeter, Real Energy Into the Load (kWh)]\n",
       "Index: []"
      ]
     },
     "metadata": {},
     "output_type": "display_data"
    },
    {
     "data": {
      "text/html": [
       "<div>\n",
       "<style scoped>\n",
       "    .dataframe tbody tr th:only-of-type {\n",
       "        vertical-align: middle;\n",
       "    }\n",
       "\n",
       "    .dataframe tbody tr th {\n",
       "        vertical-align: top;\n",
       "    }\n",
       "\n",
       "    .dataframe thead th {\n",
       "        text-align: right;\n",
       "    }\n",
       "</style>\n",
       "<table border=\"1\" class=\"dataframe\">\n",
       "  <thead>\n",
       "    <tr style=\"text-align: right;\">\n",
       "      <th></th>\n",
       "      <th>Timestamp</th>\n",
       "      <th>MonSolarMeter</th>\n",
       "      <th>Real Energy Into the Load (kWh)</th>\n",
       "    </tr>\n",
       "  </thead>\n",
       "  <tbody>\n",
       "    <tr>\n",
       "      <th>8930</th>\n",
       "      <td>2020-02-16 12:00:00.004</td>\n",
       "      <td>LV_N1_Building_Carpark.West_Park_Solar_Feed</td>\n",
       "      <td>297.214</td>\n",
       "    </tr>\n",
       "  </tbody>\n",
       "</table>\n",
       "</div>"
      ],
      "text/plain": [
       "                    Timestamp                                MonSolarMeter  \\\n",
       "8930  2020-02-16 12:00:00.004  LV_N1_Building_Carpark.West_Park_Solar_Feed   \n",
       "\n",
       "      Real Energy Into the Load (kWh)  \n",
       "8930                          297.214  "
      ]
     },
     "metadata": {},
     "output_type": "display_data"
    }
   ],
   "source": [
    "#find all row with negative value\n",
    "neg_ind = data[data['Real Energy Into the Load (kWh)'] < 0].index\n",
    "\n",
    "#print the negative data\n",
    "print(\"the index for negative value: \")\n",
    "display(neg_ind)\n",
    "\n",
    "#set the negative to positive value\n",
    "data.loc[neg_ind, \"Real Energy Into the Load (kWh)\"]= data.loc[neg_ind, \"Real Energy Into the Load (kWh)\"] * -1\n",
    "\n",
    "\n",
    "#check negative data again\n",
    "print(\"confirm the data is change to positive: \")\n",
    "display(data[data['Real Energy Into the Load (kWh)'] < 0])\n",
    "display(data.loc[neg_ind])"
   ]
  },
  {
   "cell_type": "markdown",
   "metadata": {},
   "source": [
    "Remove duplicate value: \n",
    "1. check unique value\n",
    "2. change the value to correct name"
   ]
  },
  {
   "cell_type": "code",
   "execution_count": 132,
   "metadata": {},
   "outputs": [
    {
     "name": "stdout",
     "output_type": "stream",
     "text": [
      "['LV_Engineering_72.Solar_Main_Supply'\n",
      " 'LV_N1_Building_Carpark.West_Park_Solar_Feed'\n",
      " 'LV_Biomedical_Sciences_76.Solar_Main_Supply' 'LV_Sport_01.PVDB-DB-B'\n",
      " 'LV_Biomedical_Science_76.Solar_Main_Supply']\n",
      "Int64Index([37757], dtype='int64')\n"
     ]
    },
    {
     "data": {
      "text/html": [
       "<div>\n",
       "<style scoped>\n",
       "    .dataframe tbody tr th:only-of-type {\n",
       "        vertical-align: middle;\n",
       "    }\n",
       "\n",
       "    .dataframe tbody tr th {\n",
       "        vertical-align: top;\n",
       "    }\n",
       "\n",
       "    .dataframe thead th {\n",
       "        text-align: right;\n",
       "    }\n",
       "</style>\n",
       "<table border=\"1\" class=\"dataframe\">\n",
       "  <thead>\n",
       "    <tr style=\"text-align: right;\">\n",
       "      <th></th>\n",
       "      <th>Timestamp</th>\n",
       "      <th>MonSolarMeter</th>\n",
       "      <th>Real Energy Into the Load (kWh)</th>\n",
       "    </tr>\n",
       "  </thead>\n",
       "  <tbody>\n",
       "    <tr>\n",
       "      <th>2</th>\n",
       "      <td>2020-01-01 00:00:00.004</td>\n",
       "      <td>LV_Biomedical_Sciences_76.Solar_Main_Supply</td>\n",
       "      <td>0.0</td>\n",
       "    </tr>\n",
       "    <tr>\n",
       "      <th>5</th>\n",
       "      <td>2020-01-01 00:30:00.004</td>\n",
       "      <td>LV_Biomedical_Sciences_76.Solar_Main_Supply</td>\n",
       "      <td>0.0</td>\n",
       "    </tr>\n",
       "    <tr>\n",
       "      <th>9</th>\n",
       "      <td>2020-01-01 01:00:00.004</td>\n",
       "      <td>LV_Biomedical_Sciences_76.Solar_Main_Supply</td>\n",
       "      <td>0.0</td>\n",
       "    </tr>\n",
       "    <tr>\n",
       "      <th>15</th>\n",
       "      <td>2020-01-01 01:30:00.004</td>\n",
       "      <td>LV_Biomedical_Sciences_76.Solar_Main_Supply</td>\n",
       "      <td>0.0</td>\n",
       "    </tr>\n",
       "    <tr>\n",
       "      <th>19</th>\n",
       "      <td>2020-01-01 02:00:00.004</td>\n",
       "      <td>LV_Biomedical_Sciences_76.Solar_Main_Supply</td>\n",
       "      <td>0.0</td>\n",
       "    </tr>\n",
       "  </tbody>\n",
       "</table>\n",
       "</div>"
      ],
      "text/plain": [
       "                  Timestamp                                MonSolarMeter  \\\n",
       "2   2020-01-01 00:00:00.004  LV_Biomedical_Sciences_76.Solar_Main_Supply   \n",
       "5   2020-01-01 00:30:00.004  LV_Biomedical_Sciences_76.Solar_Main_Supply   \n",
       "9   2020-01-01 01:00:00.004  LV_Biomedical_Sciences_76.Solar_Main_Supply   \n",
       "15  2020-01-01 01:30:00.004  LV_Biomedical_Sciences_76.Solar_Main_Supply   \n",
       "19  2020-01-01 02:00:00.004  LV_Biomedical_Sciences_76.Solar_Main_Supply   \n",
       "\n",
       "    Real Energy Into the Load (kWh)  \n",
       "2                               0.0  \n",
       "5                               0.0  \n",
       "9                               0.0  \n",
       "15                              0.0  \n",
       "19                              0.0  "
      ]
     },
     "metadata": {},
     "output_type": "display_data"
    }
   ],
   "source": [
    "#check column unique value to find naming error\n",
    "print(data[\"MonSolarMeter\"].unique())\n",
    "\n",
    "# save duplicate names into variables\n",
    "science = data[\"MonSolarMeter\"] == \\\n",
    "'LV_Biomedical_Science_76.Solar_Main_Supply'\n",
    "sciences = data[\"MonSolarMeter\"] == \\\n",
    "'LV_Biomedical_Sciences_76.Solar_Main_Supply'\n",
    "\n",
    "#inspect data\n",
    "print(data[science].index)\n",
    "display(data[sciences].head())"
   ]
  },
  {
   "cell_type": "code",
   "execution_count": 133,
   "metadata": {},
   "outputs": [
    {
     "data": {
      "text/html": [
       "<div>\n",
       "<style scoped>\n",
       "    .dataframe tbody tr th:only-of-type {\n",
       "        vertical-align: middle;\n",
       "    }\n",
       "\n",
       "    .dataframe tbody tr th {\n",
       "        vertical-align: top;\n",
       "    }\n",
       "\n",
       "    .dataframe thead th {\n",
       "        text-align: right;\n",
       "    }\n",
       "</style>\n",
       "<table border=\"1\" class=\"dataframe\">\n",
       "  <thead>\n",
       "    <tr style=\"text-align: right;\">\n",
       "      <th></th>\n",
       "      <th>Timestamp</th>\n",
       "      <th>MonSolarMeter</th>\n",
       "      <th>Real Energy Into the Load (kWh)</th>\n",
       "    </tr>\n",
       "  </thead>\n",
       "  <tbody>\n",
       "    <tr>\n",
       "      <th>37756</th>\n",
       "      <td>2020-07-15 15:00:00.006</td>\n",
       "      <td>LV_N1_Building_Carpark.West_Park_Solar_Feed</td>\n",
       "      <td>38.916</td>\n",
       "    </tr>\n",
       "    <tr>\n",
       "      <th>37757</th>\n",
       "      <td>2020-07-15 15:00:00.006</td>\n",
       "      <td>LV_Biomedical_Science_76.Solar_Main_Supply</td>\n",
       "      <td>0.763</td>\n",
       "    </tr>\n",
       "    <tr>\n",
       "      <th>37758</th>\n",
       "      <td>2020-07-15 15:00:00.006</td>\n",
       "      <td>LV_Sport_01.PVDB-DB-B</td>\n",
       "      <td>2.797</td>\n",
       "    </tr>\n",
       "    <tr>\n",
       "      <th>37759</th>\n",
       "      <td>2020-07-15 15:00:00.006</td>\n",
       "      <td>LV_Engineering_72.Solar_Main_Supply</td>\n",
       "      <td>3.073</td>\n",
       "    </tr>\n",
       "  </tbody>\n",
       "</table>\n",
       "</div>"
      ],
      "text/plain": [
       "                     Timestamp                                MonSolarMeter  \\\n",
       "37756  2020-07-15 15:00:00.006  LV_N1_Building_Carpark.West_Park_Solar_Feed   \n",
       "37757  2020-07-15 15:00:00.006   LV_Biomedical_Science_76.Solar_Main_Supply   \n",
       "37758  2020-07-15 15:00:00.006                        LV_Sport_01.PVDB-DB-B   \n",
       "37759  2020-07-15 15:00:00.006          LV_Engineering_72.Solar_Main_Supply   \n",
       "\n",
       "       Real Energy Into the Load (kWh)  \n",
       "37756                           38.916  \n",
       "37757                            0.763  \n",
       "37758                            2.797  \n",
       "37759                            3.073  "
      ]
     },
     "execution_count": 133,
     "metadata": {},
     "output_type": "execute_result"
    }
   ],
   "source": [
    "#check if the sciences has data at 2020-07-15 15:00:00.006\n",
    "data[data['Timestamp'] == '2020-07-15 15:00:00.006']"
   ]
  },
  {
   "cell_type": "code",
   "execution_count": 134,
   "metadata": {
    "scrolled": true
   },
   "outputs": [
    {
     "data": {
      "text/html": [
       "<div>\n",
       "<style scoped>\n",
       "    .dataframe tbody tr th:only-of-type {\n",
       "        vertical-align: middle;\n",
       "    }\n",
       "\n",
       "    .dataframe tbody tr th {\n",
       "        vertical-align: top;\n",
       "    }\n",
       "\n",
       "    .dataframe thead th {\n",
       "        text-align: right;\n",
       "    }\n",
       "</style>\n",
       "<table border=\"1\" class=\"dataframe\">\n",
       "  <thead>\n",
       "    <tr style=\"text-align: right;\">\n",
       "      <th></th>\n",
       "      <th>Timestamp</th>\n",
       "      <th>MonSolarMeter</th>\n",
       "      <th>Real Energy Into the Load (kWh)</th>\n",
       "    </tr>\n",
       "  </thead>\n",
       "  <tbody>\n",
       "    <tr>\n",
       "      <th>37757</th>\n",
       "      <td>2020-07-15 15:00:00.006</td>\n",
       "      <td>LV_Biomedical_Sciences_76.Solar_Main_Supply</td>\n",
       "      <td>0.763</td>\n",
       "    </tr>\n",
       "  </tbody>\n",
       "</table>\n",
       "</div>"
      ],
      "text/plain": [
       "                     Timestamp                                MonSolarMeter  \\\n",
       "37757  2020-07-15 15:00:00.006  LV_Biomedical_Sciences_76.Solar_Main_Supply   \n",
       "\n",
       "       Real Energy Into the Load (kWh)  \n",
       "37757                            0.763  "
      ]
     },
     "metadata": {},
     "output_type": "display_data"
    },
    {
     "name": "stdout",
     "output_type": "stream",
     "text": [
      "['LV_Engineering_72.Solar_Main_Supply'\n",
      " 'LV_N1_Building_Carpark.West_Park_Solar_Feed'\n",
      " 'LV_Biomedical_Sciences_76.Solar_Main_Supply' 'LV_Sport_01.PVDB-DB-B']\n"
     ]
    }
   ],
   "source": [
    "# for LV_Biomedical_Sciences_76.Solar_Main_Supply \n",
    "# there is no value at 2020-07-15 15:00:00\n",
    "# Thus we can confirm this is an naming error\n",
    "# change it to correct name \n",
    "data.loc[data[science].index, 'MonSolarMeter'] = 'LV_Biomedical_Sciences_76.Solar_Main_Supply'\n",
    "#the name has successfully changed\n",
    "display(data[science])\n",
    "#check column unique value to find naming error\n",
    "print(data[\"MonSolarMeter\"].unique())"
   ]
  },
  {
   "cell_type": "markdown",
   "metadata": {},
   "source": [
    "Find duplciate data: \n",
    "1. check if theres dupiclate values for each SolarMeter\n",
    "2. drop duplicate row"
   ]
  },
  {
   "cell_type": "code",
   "execution_count": 135,
   "metadata": {
    "scrolled": true
   },
   "outputs": [
    {
     "data": {
      "text/html": [
       "<div>\n",
       "<style scoped>\n",
       "    .dataframe tbody tr th:only-of-type {\n",
       "        vertical-align: middle;\n",
       "    }\n",
       "\n",
       "    .dataframe tbody tr th {\n",
       "        vertical-align: top;\n",
       "    }\n",
       "\n",
       "    .dataframe thead th {\n",
       "        text-align: right;\n",
       "    }\n",
       "</style>\n",
       "<table border=\"1\" class=\"dataframe\">\n",
       "  <thead>\n",
       "    <tr style=\"text-align: right;\">\n",
       "      <th></th>\n",
       "      <th>Timestamp</th>\n",
       "      <th>MonSolarMeter</th>\n",
       "      <th>Real Energy Into the Load (kWh)</th>\n",
       "    </tr>\n",
       "  </thead>\n",
       "  <tbody>\n",
       "    <tr>\n",
       "      <th>33876</th>\n",
       "      <td>2020-06-25 10:00:00.005</td>\n",
       "      <td>LV_N1_Building_Carpark.West_Park_Solar_Feed</td>\n",
       "      <td>105.035</td>\n",
       "    </tr>\n",
       "    <tr>\n",
       "      <th>33877</th>\n",
       "      <td>2020-06-25 10:00:00.005</td>\n",
       "      <td>LV_Sport_01.PVDB-DB-B</td>\n",
       "      <td>15.424</td>\n",
       "    </tr>\n",
       "    <tr>\n",
       "      <th>33878</th>\n",
       "      <td>2020-06-25 10:00:00.005</td>\n",
       "      <td>LV_Biomedical_Sciences_76.Solar_Main_Supply</td>\n",
       "      <td>3.917</td>\n",
       "    </tr>\n",
       "    <tr>\n",
       "      <th>33879</th>\n",
       "      <td>2020-06-25 10:00:00.005</td>\n",
       "      <td>LV_Engineering_72.Solar_Main_Supply</td>\n",
       "      <td>17.533</td>\n",
       "    </tr>\n",
       "  </tbody>\n",
       "</table>\n",
       "</div>"
      ],
      "text/plain": [
       "                     Timestamp                                MonSolarMeter  \\\n",
       "33876  2020-06-25 10:00:00.005  LV_N1_Building_Carpark.West_Park_Solar_Feed   \n",
       "33877  2020-06-25 10:00:00.005                        LV_Sport_01.PVDB-DB-B   \n",
       "33878  2020-06-25 10:00:00.005  LV_Biomedical_Sciences_76.Solar_Main_Supply   \n",
       "33879  2020-06-25 10:00:00.005          LV_Engineering_72.Solar_Main_Supply   \n",
       "\n",
       "       Real Energy Into the Load (kWh)  \n",
       "33876                          105.035  \n",
       "33877                           15.424  \n",
       "33878                            3.917  \n",
       "33879                           17.533  "
      ]
     },
     "metadata": {},
     "output_type": "display_data"
    },
    {
     "data": {
      "text/html": [
       "<div>\n",
       "<style scoped>\n",
       "    .dataframe tbody tr th:only-of-type {\n",
       "        vertical-align: middle;\n",
       "    }\n",
       "\n",
       "    .dataframe tbody tr th {\n",
       "        vertical-align: top;\n",
       "    }\n",
       "\n",
       "    .dataframe thead th {\n",
       "        text-align: right;\n",
       "    }\n",
       "</style>\n",
       "<table border=\"1\" class=\"dataframe\">\n",
       "  <thead>\n",
       "    <tr style=\"text-align: right;\">\n",
       "      <th></th>\n",
       "      <th>Timestamp</th>\n",
       "      <th>MonSolarMeter</th>\n",
       "      <th>Real Energy Into the Load (kWh)</th>\n",
       "    </tr>\n",
       "  </thead>\n",
       "  <tbody>\n",
       "  </tbody>\n",
       "</table>\n",
       "</div>"
      ],
      "text/plain": [
       "Empty DataFrame\n",
       "Columns: [Timestamp, MonSolarMeter, Real Energy Into the Load (kWh)]\n",
       "Index: []"
      ]
     },
     "metadata": {},
     "output_type": "display_data"
    }
   ],
   "source": [
    "#display duplicated rows\n",
    "display(data[data.duplicated()])\n",
    "#drop all duplicated rows by index\n",
    "cleaned_data = data.drop_duplicates()\n",
    "#display duplicated rows\n",
    "display(cleaned_data[cleaned_data.duplicated()])\n",
    "#save cleaned data to new csv\n",
    "cleaned_data.to_csv(\"Cleaned_PE1_Solar_Data_Generation_2020.csv\")"
   ]
  },
  {
   "cell_type": "code",
   "execution_count": 136,
   "metadata": {},
   "outputs": [
    {
     "data": {
      "text/plain": [
       "70256"
      ]
     },
     "execution_count": 136,
     "metadata": {},
     "output_type": "execute_result"
    }
   ],
   "source": [
    "len(cleaned_data)"
   ]
  },
  {
   "cell_type": "code",
   "execution_count": 137,
   "metadata": {},
   "outputs": [
    {
     "data": {
      "text/plain": [
       "Timestamp                                      2020-01-01 00:00:00.004\n",
       "MonSolarMeter                      LV_Engineering_72.Solar_Main_Supply\n",
       "Real Energy Into the Load (kWh)                                      0\n",
       "Name: 0, dtype: object"
      ]
     },
     "execution_count": 137,
     "metadata": {},
     "output_type": "execute_result"
    }
   ],
   "source": [
    "cleaned_data.loc[0]"
   ]
  },
  {
   "cell_type": "code",
   "execution_count": null,
   "metadata": {},
   "outputs": [],
   "source": []
  }
 ],
 "metadata": {
  "kernelspec": {
   "display_name": "Python 3",
   "language": "python",
   "name": "python3"
  },
  "language_info": {
   "codemirror_mode": {
    "name": "ipython",
    "version": 3
   },
   "file_extension": ".py",
   "mimetype": "text/x-python",
   "name": "python",
   "nbconvert_exporter": "python",
   "pygments_lexer": "ipython3",
   "version": "3.8.5"
  }
 },
 "nbformat": 4,
 "nbformat_minor": 4
}
